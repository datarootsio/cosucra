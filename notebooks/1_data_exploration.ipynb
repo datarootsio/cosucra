{
 "cells": [
  {
   "cell_type": "markdown",
   "metadata": {},
   "source": [
    "Data ingestion"
   ]
  },
  {
   "cell_type": "code",
   "execution_count": 167,
   "metadata": {},
   "outputs": [],
   "source": [
    "import matplotlib\n",
    "matplotlib.use('macosx')\n",
    "import dataframe_image as dfi\n"
   ]
  },
  {
   "cell_type": "code",
   "execution_count": 158,
   "metadata": {},
   "outputs": [],
   "source": [
    "# Imports\n",
    "\n",
    "import sys\n",
    "sys.path.append('../src/cosucra/1_exploration')\n",
    "import exploration\n",
    "import pandas as pd\n",
    "\n"
   ]
  },
  {
   "cell_type": "code",
   "execution_count": 159,
   "metadata": {},
   "outputs": [
    {
     "data": {
      "text/plain": [
       "<module 'exploration' from '/Users/baudouinm/Documents/Dataroots/cosucra/notebooks/../src/cosucra/1_exploration/exploration.py'>"
      ]
     },
     "execution_count": 159,
     "metadata": {},
     "output_type": "execute_result"
    }
   ],
   "source": [
    "# Reload exploration file\n",
    "import importlib\n",
    "importlib.reload(exploration)\n"
   ]
  },
  {
   "cell_type": "markdown",
   "metadata": {},
   "source": [
    "## Ingestion"
   ]
  },
  {
   "cell_type": "code",
   "execution_count": 160,
   "metadata": {},
   "outputs": [],
   "source": [
    "# Creation of a dict to retrieve the sheets_name\n",
    "\n",
    "file_path = \"../data/raw/231006 TAG LIST PRO-AI.xlsx\"\n",
    "process_sheets = exploration.group_tags_by_process(file_path)\n"
   ]
  },
  {
   "cell_type": "code",
   "execution_count": 161,
   "metadata": {},
   "outputs": [],
   "source": [
    "# Processes ingestion\n",
    "\n",
    "tag = pd.read_excel(\"../data/raw/231006 TAG LIST PRO-AI.xlsx\", sheet_name=\"Feuil1\")\n",
    "\n",
    "# Define the mapping of process names to their sheet names\n",
    "process_files = {\n",
    "    \"A\": \"../data/raw/Process A.xlsx\",\n",
    "    \"C\": \"../data/raw/Process C.xlsx\",\n",
    "    \"E3\": \"../data/raw/Process E3.xlsx\",\n",
    "    \"G2\": \"../data/raw/Process G2.xlsx\",\n",
    "    \"H3\": \"../data/raw/Process H3.xlsx\",\n",
    "    \"P2\": \"../data/raw/Process P2.xlsx\",\n",
    "    \"PP2\": \"../data/raw/Process PP2.xlsx\",\n",
    "    \"T2\": \"../data/raw/Process T2.xlsx\",\n",
    "    \"U\": \"../data/raw/Process U.xlsx\"\n",
    "}\n",
    "\n",
    "# Dictionary to store the DataFrames\n",
    "process_data = {}\n",
    "\n",
    "# Loop through the process_files dictionary to read each Excel file\n",
    "for process_key, file_path in process_files.items():\n",
    "    process_data[process_key] = pd.read_excel(file_path, sheet_name=process_sheets[process_key])\n",
    "\n",
    "# Access the DataFrames like this\n",
    "processA = process_data[\"A\"]\n",
    "processC = process_data[\"C\"]\n",
    "processE3 = process_data[\"E3\"]\n",
    "processG2 = process_data[\"G2\"]\n",
    "processH3 = process_data[\"H3\"]\n",
    "processP2 = process_data[\"P2\"]\n",
    "processPP2 = process_data[\"PP2\"]\n",
    "processT2 = process_data[\"T2\"]\n",
    "processU = process_data[\"U\"]\n",
    "\n"
   ]
  },
  {
   "cell_type": "markdown",
   "metadata": {},
   "source": [
    "Cleaning and exploration "
   ]
  },
  {
   "cell_type": "code",
   "execution_count": 75,
   "metadata": {},
   "outputs": [
    {
     "name": "stdout",
     "output_type": "stream",
     "text": [
      "TimeStamp                                datetime64[ns]\n",
      ".[Provital.Saisie_OP.ECH_PURNIR_POIS]           float64\n",
      "dtype: object\n"
     ]
    }
   ],
   "source": [
    "#Convert columns to float\n",
    "data = exploration.convert_second_column_to_float(processA)\n",
    "print(data[\"ECH_PURNIR_POIS\"].dtypes)\n"
   ]
  },
  {
   "cell_type": "code",
   "execution_count": 61,
   "metadata": {},
   "outputs": [
    {
     "name": "stdout",
     "output_type": "stream",
     "text": [
      "{'ECH_MSNIR_POIS': TimeStamp                                0\n",
      ".[Provital.Saisie_OP.ECH_MSNIR_POIS]    16\n",
      "dtype: int64, 'ECH_PURNIR_POIS': TimeStamp                                 0\n",
      ".[Provital.Saisie_OP.ECH_PURNIR_POIS]    16\n",
      "dtype: int64, 'ECH_TX_COQUES': TimeStamp                               0\n",
      ".[Provital.Saisie_OP.ECH_TX_COQUES]    19\n",
      "dtype: int64}\n"
     ]
    }
   ],
   "source": [
    "# Check null data\n",
    "null_counts = exploration.count_nulls_in_sheets(data)\n",
    "print(null_counts)\n"
   ]
  },
  {
   "cell_type": "code",
   "execution_count": 66,
   "metadata": {},
   "outputs": [
    {
     "name": "stdout",
     "output_type": "stream",
     "text": [
      "{'ECH_MSNIR_POIS': TimeStamp                               0\n",
      ".[Provital.Saisie_OP.ECH_MSNIR_POIS]    0\n",
      "dtype: int64, 'ECH_PURNIR_POIS': TimeStamp                                0\n",
      ".[Provital.Saisie_OP.ECH_PURNIR_POIS]    0\n",
      "dtype: int64, 'ECH_TX_COQUES': TimeStamp                              0\n",
      ".[Provital.Saisie_OP.ECH_TX_COQUES]    0\n",
      "dtype: int64}\n"
     ]
    }
   ],
   "source": [
    "# Remove null value\n",
    "\n",
    "cleaned_data = exploration.remove_nulls_from_dict(data)\n",
    "# print(cleaned_data)\n",
    "null_counts_cleaned_data = exploration.count_nulls_in_sheets(cleaned_data)\n",
    "print(null_counts_cleaned_data)\n"
   ]
  },
  {
   "cell_type": "code",
   "execution_count": 174,
   "metadata": {},
   "outputs": [
    {
     "data": {
      "text/plain": [
       "<module 'exploration' from '/Users/baudouinm/Documents/Dataroots/cosucra/notebooks/../src/cosucra/1_exploration/exploration.py'>"
      ]
     },
     "execution_count": 174,
     "metadata": {},
     "output_type": "execute_result"
    }
   ],
   "source": [
    "# Reload exploration file\n",
    "import importlib\n",
    "importlib.reload(exploration)\n"
   ]
  },
  {
   "cell_type": "code",
   "execution_count": 112,
   "metadata": {},
   "outputs": [
    {
     "name": "stdout",
     "output_type": "stream",
     "text": [
      "                           TimeStamp  .[Provital.Saisie_OP.ECH_MSNIR_POIS]\n",
      "count                           2331                           2331.000000\n",
      "mean   2023-05-16 20:36:27.607902464                             87.256040\n",
      "min              2023-01-17 00:00:00                             81.349998\n",
      "25%    2023-03-15 06:25:37.506000128                             86.919998\n",
      "50%    2023-05-16 07:45:50.003000064                             87.360001\n",
      "75%    2023-07-14 23:40:48.501999872                             87.739998\n",
      "max       2023-09-16 18:35:23.002000                             89.059998\n",
      "std                              NaN                              1.048937\n"
     ]
    }
   ],
   "source": [
    "summary_dict = exploration.summarize_sheets(cleaned_data)\n",
    "print(summary_dict[0])\n"
   ]
  },
  {
   "cell_type": "code",
   "execution_count": 116,
   "metadata": {},
   "outputs": [
    {
     "name": "stdout",
     "output_type": "stream",
     "text": [
      "        Sheet Name  Total Outliers  .[Provital.Saisie_OP.ECH_MSNIR_POIS]  \\\n",
      "0   ECH_MSNIR_POIS              56                                  56.0   \n",
      "1  ECH_PURNIR_POIS              50                                   NaN   \n",
      "2    ECH_TX_COQUES               0                                   NaN   \n",
      "\n",
      "   .[Provital.Saisie_OP.ECH_PURNIR_POIS]  .[Provital.Saisie_OP.ECH_TX_COQUES]  \n",
      "0                                    NaN                                  NaN  \n",
      "1                                   50.0                                  NaN  \n",
      "2                                    NaN                                  0.0  \n"
     ]
    }
   ],
   "source": [
    "summary_dict_outliers = exploration.summarize_sheets_with_outlier_counts(cleaned_data)\n",
    "print(summary_dict_outliers)\n"
   ]
  },
  {
   "cell_type": "code",
   "execution_count": 82,
   "metadata": {},
   "outputs": [
    {
     "data": {
      "text/plain": [
       "{'ECH_MSNIR_POIS':                    TimeStamp  .[Provital.Saisie_OP.ECH_MSNIR_POIS]\n",
       " 0    2023-01-17 00:00:00.000                             87.330002\n",
       " 1    2023-01-17 00:42:21.004                             87.330002\n",
       " 2    2023-01-17 00:42:22.007                             87.500000\n",
       " 3    2023-01-17 08:42:22.004                             87.500000\n",
       " 4    2023-01-17 08:42:23.008                             87.500000\n",
       " ...                      ...                                   ...\n",
       " 2342 2023-09-16 10:44:04.004                             87.339996\n",
       " 2343 2023-09-16 14:56:28.002                             87.339996\n",
       " 2344 2023-09-16 14:56:29.003                             87.080002\n",
       " 2345 2023-09-16 18:35:22.006                             87.080002\n",
       " 2346 2023-09-16 18:35:23.002                             87.389999\n",
       " \n",
       " [2331 rows x 2 columns],\n",
       " 'ECH_PURNIR_POIS':                    TimeStamp  .[Provital.Saisie_OP.ECH_PURNIR_POIS]\n",
       " 0    2023-01-17 00:00:00.000                                  22.32\n",
       " 1    2023-01-17 00:42:21.004                                  22.32\n",
       " 2    2023-01-17 00:42:22.007                                  22.66\n",
       " 3    2023-01-17 08:42:22.004                                  22.66\n",
       " 4    2023-01-17 08:42:23.008                                  22.66\n",
       " ...                      ...                                    ...\n",
       " 2366 2023-09-16 14:56:30.003                                  25.09\n",
       " 2367 2023-09-16 18:35:22.006                                  25.09\n",
       " 2368 2023-09-16 18:35:23.002                                  25.25\n",
       " 2369 2023-09-16 22:38:25.005                                  25.25\n",
       " 2370 2023-09-16 22:38:26.004                                  25.17\n",
       " \n",
       " [2355 rows x 2 columns],\n",
       " 'ECH_TX_COQUES':                    TimeStamp  .[Provital.Saisie_OP.ECH_TX_COQUES]\n",
       " 0    2023-01-17 00:00:00.000                                 3.28\n",
       " 1    2023-01-17 00:43:22.003                                 3.28\n",
       " 2    2023-01-17 00:43:23.006                                 3.64\n",
       " 3    2023-01-17 08:43:22.006                                 3.64\n",
       " 4    2023-01-17 08:43:23.008                                 3.64\n",
       " ...                      ...                                  ...\n",
       " 2795 2023-09-16 16:22:05.005                                 5.86\n",
       " 2796 2023-09-16 18:36:03.001                                 5.86\n",
       " 2797 2023-09-16 18:36:04.006                                 3.64\n",
       " 2798 2023-09-16 22:39:35.005                                 3.64\n",
       " 2799 2023-09-16 22:39:36.008                                 4.46\n",
       " \n",
       " [2781 rows x 2 columns]}"
      ]
     },
     "execution_count": 82,
     "metadata": {},
     "output_type": "execute_result"
    }
   ],
   "source": [
    "cleaned_data\n"
   ]
  },
  {
   "cell_type": "code",
   "execution_count": null,
   "metadata": {},
   "outputs": [],
   "source": [
    "# Ensure plots are displayed inline in Jupyter notebooks\n",
    "%matplotlib inline\n",
    "\n",
    "exploration.plot_sheets_data(cleaned_data)\n"
   ]
  },
  {
   "cell_type": "code",
   "execution_count": null,
   "metadata": {},
   "outputs": [],
   "source": []
  },
  {
   "cell_type": "code",
   "execution_count": 185,
   "metadata": {},
   "outputs": [
    {
     "name": "stdout",
     "output_type": "stream",
     "text": [
      "        Sheet Name                Cleaning Method  \\\n",
      "0   ECH_MSNIR_POIS  dropped rows with null values   \n",
      "1  ECH_PURNIR_POIS  dropped rows with null values   \n",
      "2    ECH_TX_COQUES  dropped rows with null values   \n",
      "\n",
      "                         Null Counts Before CLEANING  \\\n",
      "0  .[Provital.Saisie_OP.ECH_MSNIR_POIS]    16\n",
      "dty...   \n",
      "1  .[Provital.Saisie_OP.ECH_PURNIR_POIS]    16\n",
      "dt...   \n",
      "2  .[Provital.Saisie_OP.ECH_TX_COQUES]    19\n",
      "dtyp...   \n",
      "\n",
      "                             Plot Filename  Total Outliers  \\\n",
      "0   plots/processA/ECH_MSNIR_POIS_plot.png              56   \n",
      "1  plots/processA/ECH_PURNIR_POIS_plot.png              50   \n",
      "2    plots/processA/ECH_TX_COQUES_plot.png               0   \n",
      "\n",
      "   min..[Provital.Saisie_OP.ECH_MSNIR_POIS]  \\\n",
      "0                                 81.349998   \n",
      "1                                       NaN   \n",
      "2                                       NaN   \n",
      "\n",
      "   max..[Provital.Saisie_OP.ECH_MSNIR_POIS]  \\\n",
      "0                                 89.059998   \n",
      "1                                       NaN   \n",
      "2                                       NaN   \n",
      "\n",
      "   median..[Provital.Saisie_OP.ECH_MSNIR_POIS]  \\\n",
      "0                                    87.360001   \n",
      "1                                          NaN   \n",
      "2                                          NaN   \n",
      "\n",
      "   mean..[Provital.Saisie_OP.ECH_MSNIR_POIS]  \\\n",
      "0                                   87.25604   \n",
      "1                                        NaN   \n",
      "2                                        NaN   \n",
      "\n",
      "   min..[Provital.Saisie_OP.ECH_PURNIR_POIS]  \\\n",
      "0                                        NaN   \n",
      "1                                  20.540001   \n",
      "2                                        NaN   \n",
      "\n",
      "   max..[Provital.Saisie_OP.ECH_PURNIR_POIS]  \\\n",
      "0                                        NaN   \n",
      "1                                 154.880005   \n",
      "2                                        NaN   \n",
      "\n",
      "   median..[Provital.Saisie_OP.ECH_PURNIR_POIS]  \\\n",
      "0                                           NaN   \n",
      "1                                          23.1   \n",
      "2                                           NaN   \n",
      "\n",
      "   mean..[Provital.Saisie_OP.ECH_PURNIR_POIS]  \\\n",
      "0                                         NaN   \n",
      "1                                   25.872497   \n",
      "2                                         NaN   \n",
      "\n",
      "   min..[Provital.Saisie_OP.ECH_TX_COQUES]  \\\n",
      "0                                      NaN   \n",
      "1                                      NaN   \n",
      "2                                     0.24   \n",
      "\n",
      "   max..[Provital.Saisie_OP.ECH_TX_COQUES]  \\\n",
      "0                                      NaN   \n",
      "1                                      NaN   \n",
      "2                                     8.82   \n",
      "\n",
      "   median..[Provital.Saisie_OP.ECH_TX_COQUES]  \\\n",
      "0                                         NaN   \n",
      "1                                         NaN   \n",
      "2                                        3.99   \n",
      "\n",
      "   mean..[Provital.Saisie_OP.ECH_TX_COQUES]  \\\n",
      "0                                       NaN   \n",
      "1                                       NaN   \n",
      "2                                  3.693373   \n",
      "\n",
      "   .[Provital.Saisie_OP.ECH_MSNIR_POIS]  \\\n",
      "0                                  56.0   \n",
      "1                                   NaN   \n",
      "2                                   NaN   \n",
      "\n",
      "   .[Provital.Saisie_OP.ECH_PURNIR_POIS]  .[Provital.Saisie_OP.ECH_TX_COQUES]  \n",
      "0                                    NaN                                  NaN  \n",
      "1                                   50.0                                  NaN  \n",
      "2                                    NaN                                  0.0  \n",
      "   Sheet Name                Cleaning Method  \\\n",
      "0  WT_C11_CPT  dropped rows with null values   \n",
      "1  LT_C_29_03  dropped rows with null values   \n",
      "\n",
      "                         Null Counts Before CLEANING  \\\n",
      "0  .[Provital.Utilites_U.Compteur.WT_C11_CPT]    ...   \n",
      "1  .[Provital.Covagri_C.LT_Niveau.LT_C_29_03]    ...   \n",
      "\n",
      "                        Plot Filename  Total Outliers  \\\n",
      "0  plots/processC/WT_C11_CPT_plot.png               0   \n",
      "1  plots/processC/LT_C_29_03_plot.png               0   \n",
      "\n",
      "   min..[Provital.Utilites_U.Compteur.WT_C11_CPT]  \\\n",
      "0                                        278285.5   \n",
      "1                                             NaN   \n",
      "\n",
      "   max..[Provital.Utilites_U.Compteur.WT_C11_CPT]  \\\n",
      "0                                       310063.75   \n",
      "1                                             NaN   \n",
      "\n",
      "   median..[Provital.Utilites_U.Compteur.WT_C11_CPT]  \\\n",
      "0                                      294502.921875   \n",
      "1                                                NaN   \n",
      "\n",
      "   mean..[Provital.Utilites_U.Compteur.WT_C11_CPT]  \\\n",
      "0                                     294423.51971   \n",
      "1                                              NaN   \n",
      "\n",
      "   min..[Provital.Covagri_C.LT_Niveau.LT_C_29_03]  \\\n",
      "0                                             NaN   \n",
      "1                                             0.0   \n",
      "\n",
      "   max..[Provital.Covagri_C.LT_Niveau.LT_C_29_03]  \\\n",
      "0                                             NaN   \n",
      "1                                       78.052498   \n",
      "\n",
      "   median..[Provital.Covagri_C.LT_Niveau.LT_C_29_03]  \\\n",
      "0                                                NaN   \n",
      "1                                          51.901875   \n",
      "\n",
      "   mean..[Provital.Covagri_C.LT_Niveau.LT_C_29_03]  \\\n",
      "0                                              NaN   \n",
      "1                                        45.372179   \n",
      "\n",
      "   .[Provital.Utilites_U.Compteur.WT_C11_CPT]  \\\n",
      "0                                         0.0   \n",
      "1                                         NaN   \n",
      "\n",
      "   .[Provital.Covagri_C.LT_Niveau.LT_C_29_03]  \n",
      "0                                         NaN  \n",
      "1                                         0.0  \n"
     ]
    }
   ],
   "source": [
    "processASummary = exploration.process_and_summarize_data(processA, process_name=\"processA\")\n",
    "processCSummary = exploration.process_and_summarize_data(processC, process_name=\"processC\")\n"
   ]
  },
  {
   "cell_type": "code",
   "execution_count": 178,
   "metadata": {},
   "outputs": [],
   "source": [
    "df_styled = processASummary.style.background_gradient()\n",
    "dfi.export(df_styled,\"./../plots/processA/processA.png\", max_cols=10)\n"
   ]
  },
  {
   "cell_type": "code",
   "execution_count": 184,
   "metadata": {},
   "outputs": [],
   "source": [
    "df_styled = processCSummary.style.background_gradient()\n",
    "dfi.export(df_styled,\"./../plots/processC/processC.png\", max_cols=10)\n"
   ]
  },
  {
   "cell_type": "code",
   "execution_count": null,
   "metadata": {},
   "outputs": [],
   "source": []
  }
 ],
 "metadata": {
  "kernelspec": {
   "display_name": ".venv",
   "language": "python",
   "name": "python3"
  },
  "language_info": {
   "codemirror_mode": {
    "name": "ipython",
    "version": 3
   },
   "file_extension": ".py",
   "mimetype": "text/x-python",
   "name": "python",
   "nbconvert_exporter": "python",
   "pygments_lexer": "ipython3",
   "version": "3.12.3"
  }
 },
 "nbformat": 4,
 "nbformat_minor": 2
}
